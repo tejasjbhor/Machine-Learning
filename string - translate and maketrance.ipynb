{
 "cells": [
  {
   "cell_type": "code",
   "execution_count": 1,
   "metadata": {},
   "outputs": [
    {
     "name": "stdout",
     "output_type": "stream",
     "text": [
      "{97: '1', 98: '2'}\n"
     ]
    },
    {
     "data": {
      "text/plain": [
       "'12cd'"
      ]
     },
     "execution_count": 1,
     "metadata": {},
     "output_type": "execute_result"
    }
   ],
   "source": [
    "#Example of maketrans with single argument - > which always be a dictionary\n",
    "\n",
    "# translate()-->table-->maketrance()\n",
    "\n",
    "string = \"abcd\"\n",
    "dict_1 = {\"a\":\"1\",\"b\":\"2\"}\n",
    "trance = string.maketrans(dict_1)\n",
    "print(trance) # conversion of chractor Unicode ordinanace ex . Unicode for a = 97 , b = 98 ....so on\n",
    "ord('c')\n",
    "string.translate(trance) # we used marktrance by passing object to translate which replce char. acoordingly"
   ]
  },
  {
   "cell_type": "code",
   "execution_count": 2,
   "metadata": {},
   "outputs": [
    {
     "name": "stdout",
     "output_type": "stream",
     "text": [
      "{97: 49, 98: 50, 99: 51, 100: 52, 101: 53}\n"
     ]
    },
    {
     "data": {
      "text/plain": [
       "'H5llo guys my n1m5 is t5j1s'"
      ]
     },
     "execution_count": 2,
     "metadata": {},
     "output_type": "execute_result"
    }
   ],
   "source": [
    "#Example of maketrans with 2 argument - > both string length always be same\n",
    "string = \"Hello guys my name is tejas\"\n",
    "str_1 = \"abcde\"\n",
    "str_2= \"12345\"\n",
    "trance = string.maketrans(str_1,str_2) # a is replace by 1 , b is replaced by 2 and so on\n",
    "print(trance) # conversion of chractor Unicode ordinanace ex . Unicode for a = 97 , b = 98 ....'1' = 49...so on\n",
    "chr(49) \n",
    "string.translate(trance) # we used marktrance by passing object to translate which replce char. acoordingly"
   ]
  },
  {
   "cell_type": "code",
   "execution_count": 3,
   "metadata": {},
   "outputs": [
    {
     "name": "stdout",
     "output_type": "stream",
     "text": [
      "{97: 49, 98: 50, 99: 51, 100: 52, 101: 53, 40: None, 45: None, 33: None, 38: None, 93: None}\n"
     ]
    },
    {
     "data": {
      "text/plain": [
       "'H5llo gu§ys my n1m5 is t5j1s'"
      ]
     },
     "execution_count": 3,
     "metadata": {},
     "output_type": "execute_result"
    }
   ],
   "source": [
    "#Example of maketrans with 2 argument - > both string length always be same\n",
    "string = \"(-Hello gu§ys m&y name i]s tejas\"\n",
    "str_1 = \"abcde\"\n",
    "str_2= \"12345\"\n",
    "str_3= \"(-!&]\"\n",
    "\n",
    "#If there is a third argument, it must be a string, whose characters will be mapped to None in the result\n",
    "\n",
    "trance = string.maketrans(str_1,str_2,str_3) \n",
    "print(trance)\n",
    "string.translate(trance) # we used marktrance by passing object to translate which replce char. acoordingly and special chr. were removed "
   ]
  }
 ],
 "metadata": {
  "kernelspec": {
   "display_name": "Python 3",
   "language": "python",
   "name": "python3"
  },
  "language_info": {
   "codemirror_mode": {
    "name": "ipython",
    "version": 3
   },
   "file_extension": ".py",
   "mimetype": "text/x-python",
   "name": "python",
   "nbconvert_exporter": "python",
   "pygments_lexer": "ipython3",
   "version": "3.6.6"
  }
 },
 "nbformat": 4,
 "nbformat_minor": 2
}
