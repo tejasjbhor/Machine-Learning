{
 "cells": [
  {
   "cell_type": "code",
   "execution_count": 2,
   "metadata": {},
   "outputs": [],
   "source": [
    "import numpy as np"
   ]
  },
  {
   "cell_type": "code",
   "execution_count": 6,
   "metadata": {},
   "outputs": [
    {
     "name": "stdout",
     "output_type": "stream",
     "text": [
      "0.8164965809277261\n",
      "0.20412414523193154\n"
     ]
    }
   ],
   "source": [
    "def cos_sim(a, b):\n",
    "\t\"\"\"Takes 2 vectors a, b and returns the cosine similarity according \n",
    "\tto the definition of the dot product\n",
    "\t\"\"\"\n",
    "\tdot_product = np.dot(a, b)\n",
    "\tnorm_a = np.linalg.norm(a)\n",
    "\tnorm_b = np.linalg.norm(b)\n",
    "\treturn dot_product / (norm_a * norm_b)\n",
    "\n",
    "# the counts we computed above\n",
    "sentence_m = np.array([1, 1, 1, 1, 1, 1, 0, 0, 0]) \n",
    "sentence_h = np.array([0, 0, 1, 1, 1, 1, 0, 0, 0])\n",
    "sentence_w = np.array([0, 0, 0, 1, 0, 0, 1, 1, 1])\n",
    "\n",
    "# We should expect sentence_m and sentence_h to be more similar\n",
    "print(cos_sim(sentence_m, sentence_h)) # 0.5\n",
    "print(cos_sim(sentence_m, sentence_w)) # 0.25"
   ]
  },
  {
   "cell_type": "code",
   "execution_count": 17,
   "metadata": {},
   "outputs": [
    {
     "name": "stdout",
     "output_type": "stream",
     "text": [
      "0.8215838362577491\n"
     ]
    }
   ],
   "source": [
    "def cos_sim(a, b):\n",
    "\tdot_product = np.dot(a, b)\n",
    "\tnorm_a = np.linalg.norm(a)\n",
    "\tnorm_b = np.linalg.norm(b)\n",
    "\treturn dot_product / (norm_a * norm_b)\n",
    "\n",
    "# the counts we computed above\n",
    "sentence_m = np.array([1, 2, 2, 1, 1, 1, 0, 0]) \n",
    "sentence_h = np.array([1, 1, 2, 1, 1, 0, 1, 1])\n",
    "\n",
    "# We should expect sentence_m and sentence_h to be more similar\n",
    "print(cos_sim(sentence_m, sentence_h)) # 0.5"
   ]
  },
  {
   "cell_type": "code",
   "execution_count": 36,
   "metadata": {},
   "outputs": [
    {
     "name": "stdout",
     "output_type": "stream",
     "text": [
      "0.8215838362577491\n"
     ]
    }
   ],
   "source": [
    "def cos_sim(a, b):\n",
    "\tdot_product = np.dot(a, b)\n",
    "\tnorm_a = np.linalg.norm(a)\n",
    "    #norm_a = sqrt(sum(sqr(for s in sentence_m)))\n",
    "\tnorm_b = np.linalg.norm(b)\n",
    "\treturn dot_product / (norm_a * norm_b)\n",
    "\n",
    "# the counts we computed above\n",
    "sentence_m = np.array([1, 2, 2, 1, 1, 1, 0, 0]) \n",
    "sentence_h = np.array([1, 1, 2, 1, 1, 0, 1, 1])\n",
    "\n",
    "# We should expect sentence_m and sentence_h to be more similar\n",
    "print(cos_sim(sentence_m, sentence_h)) # 0.5\n"
   ]
  },
  {
   "cell_type": "code",
   "execution_count": null,
   "metadata": {},
   "outputs": [],
   "source": []
  }
 ],
 "metadata": {
  "kernelspec": {
   "display_name": "Python 3",
   "language": "python",
   "name": "python3"
  },
  "language_info": {
   "codemirror_mode": {
    "name": "ipython",
    "version": 3
   },
   "file_extension": ".py",
   "mimetype": "text/x-python",
   "name": "python",
   "nbconvert_exporter": "python",
   "pygments_lexer": "ipython3",
   "version": "3.6.6"
  }
 },
 "nbformat": 4,
 "nbformat_minor": 2
}
